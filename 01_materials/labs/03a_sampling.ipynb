{
 "cells": [
  {
   "cell_type": "code",
   "execution_count": 1,
   "metadata": {},
   "outputs": [],
   "source": [
    "%load_ext dotenv\n",
    "%dotenv \n",
    "import os\n",
    "import sys\n",
    "sys.path.append(os.getenv('SRC_DIR'))\n",
    "from logger import get_logger\n",
    "_logs = get_logger(__name__)"
   ]
  },
  {
   "cell_type": "code",
   "execution_count": 2,
   "metadata": {},
   "outputs": [],
   "source": [
    "import dask.dataframe as dd\n",
    "import pandas as pd\n",
    "import numpy as np\n",
    "import os\n",
    "from glob import glob"
   ]
  },
  {
   "cell_type": "code",
   "execution_count": 17,
   "metadata": {},
   "outputs": [
    {
     "data": {
      "text/plain": [
       "'../../05_src/data/features/stock_features.parquet\\\\*.parquet'"
      ]
     },
     "execution_count": 17,
     "metadata": {},
     "output_type": "execute_result"
    }
   ],
   "source": [
    "# Addition SLF \n",
    "ft_dir = os.getenv(\"FEATURES_DATA\")\n",
    "os.path.join(ft_dir, '*.parquet')\n",
    "\n",
    "# \\\\ is a special character for a \\ in python, like \\n is carriage return"
   ]
  },
  {
   "cell_type": "code",
   "execution_count": 15,
   "metadata": {},
   "outputs": [],
   "source": [
    "ft_dir = os.getenv(\"FEATURES_DATA\")\n",
    "ft_glob = glob(ft_dir+'/*.parquet')\n",
    "df = dd.read_parquet(ft_glob).compute().reset_index()"
   ]
  },
  {
   "cell_type": "code",
   "execution_count": null,
   "metadata": {},
   "outputs": [
    {
     "data": {
      "text/html": [
       "<div>\n",
       "<style scoped>\n",
       "    .dataframe tbody tr th:only-of-type {\n",
       "        vertical-align: middle;\n",
       "    }\n",
       "\n",
       "    .dataframe tbody tr th {\n",
       "        vertical-align: top;\n",
       "    }\n",
       "\n",
       "    .dataframe thead th {\n",
       "        text-align: right;\n",
       "    }\n",
       "</style>\n",
       "<table border=\"1\" class=\"dataframe\">\n",
       "  <thead>\n",
       "    <tr style=\"text-align: right;\">\n",
       "      <th></th>\n",
       "      <th>Ticker</th>\n",
       "      <th>Date</th>\n",
       "      <th>Adj Close</th>\n",
       "      <th>Close</th>\n",
       "      <th>High</th>\n",
       "      <th>Low</th>\n",
       "      <th>Open</th>\n",
       "      <th>Volume</th>\n",
       "      <th>Year</th>\n",
       "      <th>Close_lag_1</th>\n",
       "      <th>Returns</th>\n",
       "    </tr>\n",
       "  </thead>\n",
       "  <tbody>\n",
       "    <tr>\n",
       "      <th>0</th>\n",
       "      <td>AAPL</td>\n",
       "      <td>2000-01-03</td>\n",
       "      <td>0.843076</td>\n",
       "      <td>0.999442</td>\n",
       "      <td>1.004464</td>\n",
       "      <td>0.907924</td>\n",
       "      <td>0.936384</td>\n",
       "      <td>535796800.0</td>\n",
       "      <td>2000</td>\n",
       "      <td>NaN</td>\n",
       "      <td>NaN</td>\n",
       "    </tr>\n",
       "    <tr>\n",
       "      <th>1</th>\n",
       "      <td>AAPL</td>\n",
       "      <td>2000-01-04</td>\n",
       "      <td>0.771997</td>\n",
       "      <td>0.915179</td>\n",
       "      <td>0.987723</td>\n",
       "      <td>0.903460</td>\n",
       "      <td>0.966518</td>\n",
       "      <td>512377600.0</td>\n",
       "      <td>2000</td>\n",
       "      <td>0.999442</td>\n",
       "      <td>-0.084310</td>\n",
       "    </tr>\n",
       "    <tr>\n",
       "      <th>2</th>\n",
       "      <td>AAPL</td>\n",
       "      <td>2000-01-05</td>\n",
       "      <td>0.783294</td>\n",
       "      <td>0.928571</td>\n",
       "      <td>0.987165</td>\n",
       "      <td>0.919643</td>\n",
       "      <td>0.926339</td>\n",
       "      <td>778321600.0</td>\n",
       "      <td>2000</td>\n",
       "      <td>0.915179</td>\n",
       "      <td>0.014633</td>\n",
       "    </tr>\n",
       "    <tr>\n",
       "      <th>3</th>\n",
       "      <td>AAPL</td>\n",
       "      <td>2000-01-06</td>\n",
       "      <td>0.715508</td>\n",
       "      <td>0.848214</td>\n",
       "      <td>0.955357</td>\n",
       "      <td>0.848214</td>\n",
       "      <td>0.947545</td>\n",
       "      <td>767972800.0</td>\n",
       "      <td>2000</td>\n",
       "      <td>0.928571</td>\n",
       "      <td>-0.086538</td>\n",
       "    </tr>\n",
       "    <tr>\n",
       "      <th>4</th>\n",
       "      <td>AAPL</td>\n",
       "      <td>2000-01-07</td>\n",
       "      <td>0.749401</td>\n",
       "      <td>0.888393</td>\n",
       "      <td>0.901786</td>\n",
       "      <td>0.852679</td>\n",
       "      <td>0.861607</td>\n",
       "      <td>460734400.0</td>\n",
       "      <td>2000</td>\n",
       "      <td>0.848214</td>\n",
       "      <td>0.047369</td>\n",
       "    </tr>\n",
       "    <tr>\n",
       "      <th>...</th>\n",
       "      <td>...</td>\n",
       "      <td>...</td>\n",
       "      <td>...</td>\n",
       "      <td>...</td>\n",
       "      <td>...</td>\n",
       "      <td>...</td>\n",
       "      <td>...</td>\n",
       "      <td>...</td>\n",
       "      <td>...</td>\n",
       "      <td>...</td>\n",
       "      <td>...</td>\n",
       "    </tr>\n",
       "    <tr>\n",
       "      <th>403451</th>\n",
       "      <td>ZBRA</td>\n",
       "      <td>2025-01-17</td>\n",
       "      <td>405.709991</td>\n",
       "      <td>405.709991</td>\n",
       "      <td>407.290009</td>\n",
       "      <td>402.290009</td>\n",
       "      <td>406.040009</td>\n",
       "      <td>270600.0</td>\n",
       "      <td>2025</td>\n",
       "      <td>402.720001</td>\n",
       "      <td>0.007424</td>\n",
       "    </tr>\n",
       "    <tr>\n",
       "      <th>403452</th>\n",
       "      <td>ZBRA</td>\n",
       "      <td>2025-01-21</td>\n",
       "      <td>418.070007</td>\n",
       "      <td>418.070007</td>\n",
       "      <td>419.850006</td>\n",
       "      <td>407.619995</td>\n",
       "      <td>407.619995</td>\n",
       "      <td>446000.0</td>\n",
       "      <td>2025</td>\n",
       "      <td>405.709991</td>\n",
       "      <td>0.030465</td>\n",
       "    </tr>\n",
       "    <tr>\n",
       "      <th>403453</th>\n",
       "      <td>ZBRA</td>\n",
       "      <td>2025-01-22</td>\n",
       "      <td>420.570007</td>\n",
       "      <td>420.570007</td>\n",
       "      <td>427.760010</td>\n",
       "      <td>419.589996</td>\n",
       "      <td>425.239990</td>\n",
       "      <td>497500.0</td>\n",
       "      <td>2025</td>\n",
       "      <td>418.070007</td>\n",
       "      <td>0.005980</td>\n",
       "    </tr>\n",
       "    <tr>\n",
       "      <th>403454</th>\n",
       "      <td>ZBRA</td>\n",
       "      <td>2025-01-23</td>\n",
       "      <td>421.109985</td>\n",
       "      <td>421.109985</td>\n",
       "      <td>422.290009</td>\n",
       "      <td>414.450012</td>\n",
       "      <td>417.619995</td>\n",
       "      <td>377100.0</td>\n",
       "      <td>2025</td>\n",
       "      <td>420.570007</td>\n",
       "      <td>0.001284</td>\n",
       "    </tr>\n",
       "    <tr>\n",
       "      <th>403455</th>\n",
       "      <td>ZBRA</td>\n",
       "      <td>2025-01-24</td>\n",
       "      <td>414.609985</td>\n",
       "      <td>414.609985</td>\n",
       "      <td>420.079987</td>\n",
       "      <td>413.739990</td>\n",
       "      <td>419.059998</td>\n",
       "      <td>258900.0</td>\n",
       "      <td>2025</td>\n",
       "      <td>421.109985</td>\n",
       "      <td>-0.015435</td>\n",
       "    </tr>\n",
       "  </tbody>\n",
       "</table>\n",
       "<p>403456 rows × 11 columns</p>\n",
       "</div>"
      ],
      "text/plain": [
       "       Ticker       Date   Adj Close       Close        High         Low  \\\n",
       "0        AAPL 2000-01-03    0.843076    0.999442    1.004464    0.907924   \n",
       "1        AAPL 2000-01-04    0.771997    0.915179    0.987723    0.903460   \n",
       "2        AAPL 2000-01-05    0.783294    0.928571    0.987165    0.919643   \n",
       "3        AAPL 2000-01-06    0.715508    0.848214    0.955357    0.848214   \n",
       "4        AAPL 2000-01-07    0.749401    0.888393    0.901786    0.852679   \n",
       "...       ...        ...         ...         ...         ...         ...   \n",
       "403451   ZBRA 2025-01-17  405.709991  405.709991  407.290009  402.290009   \n",
       "403452   ZBRA 2025-01-21  418.070007  418.070007  419.850006  407.619995   \n",
       "403453   ZBRA 2025-01-22  420.570007  420.570007  427.760010  419.589996   \n",
       "403454   ZBRA 2025-01-23  421.109985  421.109985  422.290009  414.450012   \n",
       "403455   ZBRA 2025-01-24  414.609985  414.609985  420.079987  413.739990   \n",
       "\n",
       "              Open       Volume  Year  Close_lag_1   Returns  \n",
       "0         0.936384  535796800.0  2000          NaN       NaN  \n",
       "1         0.966518  512377600.0  2000     0.999442 -0.084310  \n",
       "2         0.926339  778321600.0  2000     0.915179  0.014633  \n",
       "3         0.947545  767972800.0  2000     0.928571 -0.086538  \n",
       "4         0.861607  460734400.0  2000     0.848214  0.047369  \n",
       "...            ...          ...   ...          ...       ...  \n",
       "403451  406.040009     270600.0  2025   402.720001  0.007424  \n",
       "403452  407.619995     446000.0  2025   405.709991  0.030465  \n",
       "403453  425.239990     497500.0  2025   418.070007  0.005980  \n",
       "403454  417.619995     377100.0  2025   420.570007  0.001284  \n",
       "403455  419.059998     258900.0  2025   421.109985 -0.015435  \n",
       "\n",
       "[403456 rows x 11 columns]"
      ]
     },
     "execution_count": 18,
     "metadata": {},
     "output_type": "execute_result"
    }
   ],
   "source": [
    "#  SLF\n",
    "df"
   ]
  },
  {
   "cell_type": "code",
   "execution_count": 23,
   "metadata": {},
   "outputs": [
    {
     "data": {
      "text/plain": [
       "<ArrowStringArray>\n",
       "['AAPL',  'ACN', 'ADBE',  'ADI', 'ADSK', 'AKAM', 'AMAT',  'AMD', 'ANET',\n",
       " 'ANSS',  'APH', 'AVGO', 'CDNS',  'CDW',  'CRM', 'CSCO', 'CTSH', 'ENPH',\n",
       " 'EPAM', 'FFIV', 'FICO', 'FSLR', 'FTNT',  'GEN',  'GLW',  'HPE',  'HPQ',\n",
       "  'IBM', 'INTC', 'INTU',   'IT',  'JBL', 'JNPR', 'KEYS', 'KLAC', 'LRCX',\n",
       " 'MCHP', 'MPWR', 'MSFT',  'MSI',   'MU',  'NOW', 'NTAP', 'NVDA', 'NXPI',\n",
       "   'ON', 'ORCL', 'PANW',  'PTC', 'QCOM', 'QRVO',  'ROP', 'SNPS',  'STX',\n",
       " 'SWKS',  'TDY',  'TEL',  'TER', 'TRMB',  'TXN',  'TYL', 'VRSN',  'WDC',\n",
       " 'ZBRA']\n",
       "Length: 64, dtype: string"
      ]
     },
     "execution_count": 23,
     "metadata": {},
     "output_type": "execute_result"
    }
   ],
   "source": [
    "# SLF \n",
    "# df['Ticker']\n",
    "# type(df['Ticker']) # pandas.core.series.Series \n",
    "# df.info() # df.info() is a method of pandas.core.frame.DataFrame\n",
    "df['Ticker'].unique() # \n"
   ]
  },
  {
   "cell_type": "code",
   "execution_count": null,
   "metadata": {},
   "outputs": [],
   "source": [
    "# SLF \n",
    "# To increase the stocks, we can use the following code \n",
    "# Jesus has another folder having much more companies data - I don't have that folder \n",
    "\n",
    "# ft_dir = os.getenv(\"FEATURES_DATA\")\n",
    "# ft_dir = '../../05_src/data/features/stock_features'\n"
   ]
  },
  {
   "cell_type": "markdown",
   "metadata": {},
   "source": [
    "# Sampling in Python"
   ]
  },
  {
   "cell_type": "markdown",
   "metadata": {},
   "source": [
    "+ There are different packages that allow sampling.\n",
    "+ A practical approach is to use pandas/Dask sampling methods."
   ]
  },
  {
   "cell_type": "markdown",
   "metadata": {},
   "source": [
    "## Random Sampling\n",
    "\n",
    "+ Sample n rows from a dataframe with [`df.sample()`](https://pandas.pydata.org/docs/reference/api/pandas.DataFrame.sample.html).\n",
    "\n",
    "```\n",
    "DataFrame.sample(\n",
    "    n=None, frac=None, replace=False, weights=None, \n",
    "    random_state=None, axis=None, ignore_index=False\n",
    "    )\n",
    "```"
   ]
  },
  {
   "cell_type": "code",
   "execution_count": 25,
   "metadata": {},
   "outputs": [
    {
     "data": {
      "text/html": [
       "<div>\n",
       "<style scoped>\n",
       "    .dataframe tbody tr th:only-of-type {\n",
       "        vertical-align: middle;\n",
       "    }\n",
       "\n",
       "    .dataframe tbody tr th {\n",
       "        vertical-align: top;\n",
       "    }\n",
       "\n",
       "    .dataframe thead th {\n",
       "        text-align: right;\n",
       "    }\n",
       "</style>\n",
       "<table border=\"1\" class=\"dataframe\">\n",
       "  <thead>\n",
       "    <tr style=\"text-align: right;\">\n",
       "      <th></th>\n",
       "      <th>Ticker</th>\n",
       "      <th>Date</th>\n",
       "      <th>Adj Close</th>\n",
       "      <th>Close</th>\n",
       "      <th>High</th>\n",
       "      <th>Low</th>\n",
       "      <th>Open</th>\n",
       "      <th>Volume</th>\n",
       "      <th>Year</th>\n",
       "      <th>Close_lag_1</th>\n",
       "      <th>Returns</th>\n",
       "    </tr>\n",
       "  </thead>\n",
       "  <tbody>\n",
       "    <tr>\n",
       "      <th>70987</th>\n",
       "      <td>AVGO</td>\n",
       "      <td>2006-07-18</td>\n",
       "      <td>NaN</td>\n",
       "      <td>NaN</td>\n",
       "      <td>NaN</td>\n",
       "      <td>NaN</td>\n",
       "      <td>NaN</td>\n",
       "      <td>NaN</td>\n",
       "      <td>2006</td>\n",
       "      <td>NaN</td>\n",
       "      <td>NaN</td>\n",
       "    </tr>\n",
       "    <tr>\n",
       "      <th>46412</th>\n",
       "      <td>AMD</td>\n",
       "      <td>2009-02-03</td>\n",
       "      <td>2.210000</td>\n",
       "      <td>2.210000</td>\n",
       "      <td>2.230000</td>\n",
       "      <td>2.110000</td>\n",
       "      <td>2.160000</td>\n",
       "      <td>8594900.0</td>\n",
       "      <td>2009</td>\n",
       "      <td>2.150000</td>\n",
       "      <td>0.027907</td>\n",
       "    </tr>\n",
       "    <tr>\n",
       "      <th>132400</th>\n",
       "      <td>FSLR</td>\n",
       "      <td>2000-01-26</td>\n",
       "      <td>NaN</td>\n",
       "      <td>NaN</td>\n",
       "      <td>NaN</td>\n",
       "      <td>NaN</td>\n",
       "      <td>NaN</td>\n",
       "      <td>NaN</td>\n",
       "      <td>2000</td>\n",
       "      <td>NaN</td>\n",
       "      <td>NaN</td>\n",
       "    </tr>\n",
       "    <tr>\n",
       "      <th>199351</th>\n",
       "      <td>JBL</td>\n",
       "      <td>2015-08-13</td>\n",
       "      <td>17.991861</td>\n",
       "      <td>19.500000</td>\n",
       "      <td>19.799999</td>\n",
       "      <td>19.450001</td>\n",
       "      <td>19.540001</td>\n",
       "      <td>1633800.0</td>\n",
       "      <td>2015</td>\n",
       "      <td>19.600000</td>\n",
       "      <td>-0.005102</td>\n",
       "    </tr>\n",
       "    <tr>\n",
       "      <th>157353</th>\n",
       "      <td>GLW</td>\n",
       "      <td>2024-01-31</td>\n",
       "      <td>31.562752</td>\n",
       "      <td>32.490002</td>\n",
       "      <td>33.389999</td>\n",
       "      <td>32.360001</td>\n",
       "      <td>33.320000</td>\n",
       "      <td>10103800.0</td>\n",
       "      <td>2024</td>\n",
       "      <td>33.299999</td>\n",
       "      <td>-0.024324</td>\n",
       "    </tr>\n",
       "  </tbody>\n",
       "</table>\n",
       "</div>"
      ],
      "text/plain": [
       "       Ticker       Date  Adj Close      Close       High        Low  \\\n",
       "70987    AVGO 2006-07-18        NaN        NaN        NaN        NaN   \n",
       "46412     AMD 2009-02-03   2.210000   2.210000   2.230000   2.110000   \n",
       "132400   FSLR 2000-01-26        NaN        NaN        NaN        NaN   \n",
       "199351    JBL 2015-08-13  17.991861  19.500000  19.799999  19.450001   \n",
       "157353    GLW 2024-01-31  31.562752  32.490002  33.389999  32.360001   \n",
       "\n",
       "             Open      Volume  Year  Close_lag_1   Returns  \n",
       "70987         NaN         NaN  2006          NaN       NaN  \n",
       "46412    2.160000   8594900.0  2009     2.150000  0.027907  \n",
       "132400        NaN         NaN  2000          NaN       NaN  \n",
       "199351  19.540001   1633800.0  2015    19.600000 -0.005102  \n",
       "157353  33.320000  10103800.0  2024    33.299999 -0.024324  "
      ]
     },
     "execution_count": 25,
     "metadata": {},
     "output_type": "execute_result"
    }
   ],
   "source": [
    "# df.sample(n = 5) \n",
    "\n",
    "# SLF \n",
    "df.sample(n = 5, random_state=42) # 5 random rows"
   ]
  },
  {
   "cell_type": "code",
   "execution_count": 29,
   "metadata": {},
   "outputs": [
    {
     "data": {
      "text/plain": [
       "list"
      ]
     },
     "execution_count": 29,
     "metadata": {},
     "output_type": "execute_result"
    }
   ],
   "source": [
    "select_tickers = df['Ticker'].unique().tolist()[0:9]    \n",
    "    # If you need full listing, run this line and comment out the  next line for selection of tickers \n",
    "# select_tickers = ['OXY', 'TXN', 'PCG', 'CBRE', 'ROK', 'AMT', 'D', 'YUM', 'PWR']\n",
    "select_tickers\n",
    "\n",
    "# SLF\n",
    "type(select_tickers) # type is list "
   ]
  },
  {
   "cell_type": "code",
   "execution_count": 30,
   "metadata": {},
   "outputs": [
    {
     "data": {
      "text/plain": [
       "((5674, 11), (56736, 11))"
      ]
     },
     "execution_count": 30,
     "metadata": {},
     "output_type": "execute_result"
    }
   ],
   "source": [
    "idx = df['Ticker'].isin(select_tickers)\n",
    "small_df = df[idx]\n",
    "simple_sample_dt = small_df.sample(frac = 0.1)\n",
    "simple_sample_dt.shape, small_df.shape"
   ]
  },
  {
   "cell_type": "code",
   "execution_count": 31,
   "metadata": {},
   "outputs": [
    {
     "data": {
      "text/plain": [
       "Ticker\n",
       "AAPL    6304\n",
       "ACN     6304\n",
       "ADBE    6304\n",
       "ADI     6304\n",
       "ADSK    6304\n",
       "AKAM    6304\n",
       "AMAT    6304\n",
       "AMD     6304\n",
       "ANET    6304\n",
       "Name: count, dtype: int64[pyarrow]"
      ]
     },
     "execution_count": 31,
     "metadata": {},
     "output_type": "execute_result"
    }
   ],
   "source": [
    "# SLF\n",
    "small_df\n",
    "small_df['Ticker'].unique()\n",
    "small_df['Ticker'].value_counts() \n"
   ]
  },
  {
   "cell_type": "markdown",
   "metadata": {},
   "source": [
    "Look at the distribution of tickers."
   ]
  },
  {
   "cell_type": "code",
   "execution_count": 32,
   "metadata": {},
   "outputs": [
    {
     "data": {
      "text/plain": [
       "<Axes: xlabel='Ticker'>"
      ]
     },
     "execution_count": 32,
     "metadata": {},
     "output_type": "execute_result"
    },
    {
     "data": {
      "image/png": "[encoded data removed]",
      "text/plain": [
       "<Figure size 640x480 with 1 Axes>"
      ]
     },
     "metadata": {},
     "output_type": "display_data"
    }
   ],
   "source": [
    "small_df['Ticker'].value_counts().plot(kind='bar')"
   ]
  },
  {
   "cell_type": "code",
   "execution_count": 33,
   "metadata": {},
   "outputs": [
    {
     "data": {
      "text/plain": [
       "<Axes: xlabel='Ticker'>"
      ]
     },
     "execution_count": 33,
     "metadata": {},
     "output_type": "execute_result"
    },
    {
     "data": {
      "image/png": "[encoded data removed]",
      "text/plain": [
       "<Figure size 640x480 with 1 Axes>"
      ]
     },
     "metadata": {},
     "output_type": "display_data"
    }
   ],
   "source": [
    "simple_sample_dt['Ticker'].value_counts().plot(kind='bar')"
   ]
  },
  {
   "cell_type": "markdown",
   "metadata": {},
   "source": [
    "## Stratified Sampling\n",
    "\n",
    "+ Use `groupby()` and `.sample()` for stratified sampling."
   ]
  },
  {
   "cell_type": "code",
   "execution_count": 34,
   "metadata": {},
   "outputs": [
    {
     "data": {
      "text/plain": [
       "<Axes: xlabel='Ticker'>"
      ]
     },
     "execution_count": 34,
     "metadata": {},
     "output_type": "execute_result"
    },
    {
     "data": {
      "image/png": "[encoded data removed]",
      "text/plain": [
       "<Figure size 640x480 with 1 Axes>"
      ]
     },
     "metadata": {},
     "output_type": "display_data"
    }
   ],
   "source": [
    "strat_sample_dt = small_df.groupby(['Ticker']).sample(frac = 0.1)\n",
    "strat_sample_dt['Ticker'].value_counts().plot(kind='bar')"
   ]
  },
  {
   "cell_type": "markdown",
   "metadata": {},
   "source": [
    "# Sampling in Dask\n",
    "\n",
    "+ Stratified sampling in `dask` can be achieved with `groupby().apply()` and a lambda function."
   ]
  },
  {
   "cell_type": "code",
   "execution_count": 35,
   "metadata": {},
   "outputs": [
    {
     "name": "stderr",
     "output_type": "stream",
     "text": [
      "C:\\Users\\engr_\\AppData\\Local\\Temp\\ipykernel_2248\\2388710987.py:2: UserWarning: `meta` is not specified, inferred from partial data. Please provide `meta` if the result is unexpected.\n",
      "  Before: .apply(func)\n",
      "  After:  .apply(func, meta={'x': 'f8', 'y': 'f8'}) for dataframe result\n",
      "  or:     .apply(func, meta=('x', 'f8'))            for series result\n",
      "  strat_sample_dd_dt = (dd_dt\n"
     ]
    },
    {
     "data": {
      "text/plain": [
       "<Axes: xlabel='Ticker'>"
      ]
     },
     "execution_count": 35,
     "metadata": {},
     "output_type": "execute_result"
    },
    {
     "data": {
      "image/png": "[encoded data removed]",
      "text/plain": [
       "<Figure size 640x480 with 1 Axes>"
      ]
     },
     "metadata": {},
     "output_type": "display_data"
    }
   ],
   "source": [
    "dd_dt = dd.read_parquet(ft_glob)\n",
    "strat_sample_dd_dt = (dd_dt\n",
    "                      .groupby('Ticker', group_keys=False)\n",
    "                      .apply(lambda x: x.sample(frac = 0.1))\n",
    "                      .compute()\n",
    "                      .reset_index())\n",
    "strat_sample_dd_dt[strat_sample_dd_dt['Ticker'].isin(select_tickers)]['Ticker'].value_counts().plot(kind='bar')"
   ]
  }
 ],
 "metadata": {
  "kernelspec": {
   "display_name": "dsi_participant",
   "language": "python",
   "name": "python3"
  },
  "language_info": {
   "codemirror_mode": {
    "name": "ipython",
    "version": 3
   },
   "file_extension": ".py",
   "mimetype": "text/x-python",
   "name": "python",
   "nbconvert_exporter": "python",
   "pygments_lexer": "ipython3",
   "version": "3.9.19"
  }
 },
 "nbformat": 4,
 "nbformat_minor": 2
}
